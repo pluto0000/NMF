{
 "cells": [
  {
   "cell_type": "markdown",
   "metadata": {},
   "source": [
    "Reference from https://github.com/jasoncoding13/nmf/blob/master/nmf/nmfs.py"
   ]
  },
  {
   "cell_type": "code",
   "execution_count": 1,
   "metadata": {},
   "outputs": [],
   "source": [
    "import numpy as np\n",
    "from common_alg import or_x_set, or_y_set, guas_set, salt_set, block_set"
   ]
  },
  {
   "cell_type": "code",
   "execution_count": 2,
   "metadata": {},
   "outputs": [],
   "source": [
    "def random_init(n_components, X):\n",
    "    n_features, n_samples = X.shape\n",
    "    avg = np.sqrt(X.mean() / n_components)\n",
    "    rng = np.random.RandomState(13)\n",
    "    D = avg * rng.randn(n_features, n_components)\n",
    "    R = avg * rng.randn(n_components, n_samples)\n",
    "    np.abs(D, out=D)\n",
    "    np.abs(R, out=R)\n",
    "    return D, R"
   ]
  },
  {
   "cell_type": "code",
   "execution_count": 3,
   "metadata": {},
   "outputs": [],
   "source": [
    "class BaseNMF():\n",
    "    \n",
    "    def __init__(self,n_components,init='random',tol=1e-4,max_iter=200,skip_iter=10):\n",
    "        self.n_components = n_components\n",
    "        self.init = init\n",
    "        self.tol = tol\n",
    "        self.max_iter = max_iter\n",
    "        self.skip_iter = skip_iter\n",
    "    \n",
    "    def _init(self, X):\n",
    "        D, R = random_init(self.n_components, X)\n",
    "        return D,R\n",
    "  \n",
    "    def fit(self, X):\n",
    "        D, R = self._init(X)\n",
    "        losses = [self._compute_loss(X, D, R)]\n",
    "        for iter_ in range(self.max_iter):\n",
    "            D, R = self._update(X, D, R)\n",
    "            # check converagence\n",
    "            if iter_ % self.skip_iter == 0:\n",
    "                losses.append(self._compute_loss(X, D, R))\n",
    "                criterion = abs(losses[-1] - losses[-2]) / losses[-2]\n",
    "                if criterion < 1e-3:\n",
    "                    break\n",
    "        return D, R\n",
    "    def _compute_loss(self, X, D, R):\n",
    "        return None\n",
    "\n",
    "    def _update_weight(self, X, D, R):\n",
    "        return None\n",
    "\n",
    "    def _update(self, X, D, R):\n",
    "        # update W\n",
    "        W = self._update_weight(X, D, R)\n",
    "        # update D\n",
    "        denominator_D = (W * D.dot(R)).dot(R.T)\n",
    "        denominator_D[denominator_D == 0] = np.finfo(np.float32).eps\n",
    "        D = D * ((W * X).dot(R.T)) / denominator_D\n",
    "        # update R\n",
    "        denominator_R = D.T.dot(W * D.dot(R))\n",
    "        denominator_R[denominator_R == 0] = np.finfo(np.float32).eps\n",
    "        R = R * (D.T.dot(W * X)) / denominator_R\n",
    "        return D, R"
   ]
  },
  {
   "cell_type": "code",
   "execution_count": 4,
   "metadata": {},
   "outputs": [],
   "source": [
    "class L1NMF(BaseNMF):\n",
    "    \"\"\"L1-NMF\n",
    "    \"\"\"\n",
    "    def _compute_loss(self, X, D, R):\n",
    "        return np.sum(np.abs(X - D.dot(R)))\n",
    "        \n",
    "\n",
    "    def _update_weight(self, X, D, R):\n",
    "        eps = X.var() / D.shape[1]\n",
    "        return 1 / (np.sqrt(np.square(X - D.dot(R))) + eps ** 2)\n"
   ]
  },
  {
   "cell_type": "code",
   "execution_count": 5,
   "metadata": {},
   "outputs": [],
   "source": [
    "def RRE(clean,R,D,name):\n",
    "    rre = []\n",
    "    for i in range(5):\n",
    "        R_n = R[i]\n",
    "        D_n = D[i]\n",
    "        error = np.linalg.norm(clean-D_n.dot(R_n))/np.linalg.norm(clean)\n",
    "        rre.append(error)\n",
    "    print(f' the rre of {name} in L1-Norm Base NMF is {sum(rre)/len(rre)}')"
   ]
  },
  {
   "cell_type": "code",
   "execution_count": 6,
   "metadata": {},
   "outputs": [],
   "source": [
    "def get_result(clean_set,data_set,name):\n",
    "    mdoel = L1NMF(n_components = 40)\n",
    "    d_s=[]\n",
    "    r_s=[]\n",
    "    for i in range(5):\n",
    "        D,R = mdoel.fit(data_set[i])\n",
    "        d_s.append(D)\n",
    "        r_s.append(R)\n",
    "    RRE(clean_set,r_s,d_s,name)"
   ]
  },
  {
   "cell_type": "code",
   "execution_count": 7,
   "metadata": {},
   "outputs": [
    {
     "name": "stdout",
     "output_type": "stream",
     "text": [
      " the rre of salt_set in L1-Norm Base NMF is 0.5081227713547113\n",
      " the rre of guas_set in L1-Norm Base NMF is 0.5170950112939028\n",
      " the rre of block_set in L1-Norm Base NMF is 0.5151392202148571\n"
     ]
    }
   ],
   "source": [
    "get_result(or_x_set,salt_set,'salt_set')\n",
    "get_result(or_x_set,guas_set,'guas_set')\n",
    "get_result(or_x_set,block_set,'block_set')"
   ]
  },
  {
   "cell_type": "code",
   "execution_count": 8,
   "metadata": {},
   "outputs": [],
   "source": [
    "class L21NMF(BaseNMF):\n",
    "    def _compute_loss(self, X, D, R):\n",
    "        return np.sum(np.sqrt(np.sum(np.square(X - D.dot(R)), axis=0)))\n",
    "\n",
    "    def _update_weight(self, X, D, R):\n",
    "        return 1 / np.sqrt(np.sum(np.square(X - D.dot(R)), axis=0))\n"
   ]
  },
  {
   "cell_type": "code",
   "execution_count": 9,
   "metadata": {},
   "outputs": [],
   "source": [
    "def RRE_21(clean,R,D,name):\n",
    "    rre = []\n",
    "    for i in range(5):\n",
    "        R_n = R[i]\n",
    "        D_n = D[i]\n",
    "        error = np.linalg.norm(clean-D_n.dot(R_n))/np.linalg.norm(clean)\n",
    "        rre.append(error)\n",
    "    print(f' the rre of {name} in L21-Norm Base NMF is {sum(rre)/len(rre)}')"
   ]
  },
  {
   "cell_type": "code",
   "execution_count": 10,
   "metadata": {},
   "outputs": [],
   "source": [
    "def get_result_21(clean_set,data_set,name):\n",
    "    mdoel = L21NMF(n_components = 40)\n",
    "    d_s=[]\n",
    "    r_s=[]\n",
    "    for i in range(5):\n",
    "        D,R = mdoel.fit(data_set[i])\n",
    "        d_s.append(D)\n",
    "        r_s.append(R)\n",
    "    RRE_21(clean_set,r_s,d_s,name)"
   ]
  },
  {
   "cell_type": "code",
   "execution_count": 11,
   "metadata": {},
   "outputs": [
    {
     "name": "stdout",
     "output_type": "stream",
     "text": [
      " the rre of salt_set in L21-Norm Base NMF is 0.5077859696839705\n",
      " the rre of guas_set in L21-Norm Base NMF is 0.516946246856734\n",
      " the rre of block_set in L21-Norm Base NMF is 0.5148012158799901\n"
     ]
    }
   ],
   "source": [
    "get_result_21(or_x_set,salt_set,'salt_set')\n",
    "get_result_21(or_x_set,guas_set,'guas_set')\n",
    "get_result_21(or_x_set,block_set,'block_set')"
   ]
  }
 ],
 "metadata": {
  "kernelspec": {
   "display_name": "Python 3.9.13 64-bit",
   "language": "python",
   "name": "python3"
  },
  "language_info": {
   "codemirror_mode": {
    "name": "ipython",
    "version": 3
   },
   "file_extension": ".py",
   "mimetype": "text/x-python",
   "name": "python",
   "nbconvert_exporter": "python",
   "pygments_lexer": "ipython3",
   "version": "3.9.13"
  },
  "orig_nbformat": 4,
  "vscode": {
   "interpreter": {
    "hash": "996f2b6e98019c29df53ccff772a8e3fe7cdecb0ba4b3f6ddb9be804d297dd3d"
   }
  }
 },
 "nbformat": 4,
 "nbformat_minor": 2
}
